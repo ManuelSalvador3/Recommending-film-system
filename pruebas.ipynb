{
 "metadata": {
  "language_info": {
   "codemirror_mode": {
    "name": "ipython",
    "version": 3
   },
   "file_extension": ".py",
   "mimetype": "text/x-python",
   "name": "python",
   "nbconvert_exporter": "python",
   "pygments_lexer": "ipython3",
   "version": "3.8.1"
  },
  "orig_nbformat": 2,
  "kernelspec": {
   "name": "python38164bit81020f362ab34473af0f493d4c7ef559",
   "display_name": "Python 3.8.1 64-bit"
  },
  "metadata": {
   "interpreter": {
    "hash": "d1c788af135ab390c20b9c38e910e96cf60c2a630d4fecdb5a94098a40e0c033"
   }
  }
 },
 "nbformat": 4,
 "nbformat_minor": 2,
 "cells": [
  {
   "cell_type": "code",
   "execution_count": 28,
   "metadata": {},
   "outputs": [
    {
     "output_type": "stream",
     "name": "stdout",
     "text": [
      "Hola\n"
     ]
    }
   ],
   "source": [
    "import sqlite3\n",
    "\n",
    "con = sqlite3.connect('movies.db')\n",
    "if con != None:\n",
    "    print(\"Hola\")\n",
    "#cur = con.cursor()\n",
    "#cur.execute('CREATE TABLE gilipollas (date integer, trans text, symbol text)')\n",
    "# Insert a row of data\n",
    "# We can also close the connection if we are done with it.\n",
    "# Just be sure any changes have been committed or they will be lost.\n",
    "#con.close()"
   ]
  },
  {
   "cell_type": "code",
   "execution_count": 25,
   "metadata": {},
   "outputs": [
    {
     "output_type": "stream",
     "name": "stdout",
     "text": [
      "Funciona\n[(1,), (3,), (6,), (47,), (50,), (70,), (101,), (110,), (151,), (157,), (163,), (216,), (223,), (231,), (235,), (260,), (296,), (316,), (333,), (349,), (356,), (362,), (367,), (423,), (441,), (457,), (480,), (500,), (527,), (543,), (552,), (553,), (590,), (592,), (593,), (596,), (608,), (648,), (661,), (673,), (733,), (736,), (780,), (804,), (919,), (923,), (940,), (943,), (954,), (1009,), (1023,), (1024,), (1025,), (1029,), (1030,), (1031,), (1032,), (1042,), (1049,), (1060,), (1073,), (1080,), (1089,), (1090,), (1092,), (1097,), (1127,), (1136,), (1196,), (1197,), (1198,), (1206,), (1208,), (1210,), (1213,), (1214,), (1219,), (1220,), (1222,), (1224,), (1226,), (1240,), (1256,), (1258,), (1265,), (1270,), (1275,), (1278,), (1282,), (1291,), (1298,), (1348,), (1377,), (1396,), (1408,), (1445,), (1473,), (1500,), (1517,), (1552,), (1573,), (1580,), (1587,), (1617,), (1620,), (1625,), (1644,), (1676,), (1732,), (1777,), (1793,), (1804,), (1805,), (1920,), (1927,), (1954,), (1967,), (2000,), (2005,), (2012,), (2018,), (2028,), (2033,), (2046,), (2048,), (2054,), (2058,), (2078,), (2090,), (2093,), (2094,), (2096,), (2099,), (2105,), (2115,), (2116,), (2137,), (2139,), (2141,), (2143,), (2161,), (2174,), (2193,), (2253,), (2268,), (2273,), (2291,), (2329,), (2338,), (2353,), (2366,), (2387,), (2389,), (2395,), (2406,), (2414,), (2427,), (2450,), (2459,), (2470,), (2478,), (2492,), (2502,), (2528,), (2529,), (2542,), (2571,), (2580,), (2596,), (2616,), (2617,), (2628,), (2640,), (2641,), (2644,), (2648,), (2654,), (2657,), (2692,), (2700,), (2716,), (2761,), (2797,), (2826,), (2858,), (2872,), (2899,), (2916,), (2944,), (2947,), (2948,), (2949,), (2959,), (2985,), (2987,), (2991,), (2993,), (2997,), (3033,), (3034,), (3052,), (3053,), (3062,), (3147,), (3168,), (3176,), (3243,), (3247,), (3253,), (3273,), (3386,), (3439,), (3440,), (3441,), (3448,), (3450,), (3479,), (3489,), (3527,), (3578,), (3617,), (3639,), (3671,), (3702,), (3703,), (3729,), (3740,), (3744,), (3793,), (3809,), (4006,), (5060,)]\nFunciona\n[(1, 4.0), (5, 4.0), (7, 4.5), (15, 2.5), (17, 4.5), (18, 3.5), (19, 4.0), (21, 3.5), (27, 3.0), (31, 5.0), (32, 3.0), (33, 3.0), (40, 5.0), (43, 5.0), (44, 3.0), (45, 4.0), (46, 5.0), (50, 3.0), (54, 3.0), (57, 5.0), (63, 5.0), (64, 4.0), (66, 4.0), (68, 2.5), (71, 5.0), (73, 4.5), (76, 0.5), (78, 4.0), (82, 2.5), (86, 4.0), (89, 3.0), (90, 3.0), (91, 4.0), (93, 3.0), (96, 5.0), (98, 4.5), (103, 4.0), (107, 4.0), (112, 3.0), (119, 3.5), (121, 4.0), (124, 4.0), (130, 3.0), (132, 2.0), (134, 3.0), (135, 4.0), (137, 4.0), (140, 3.0), (141, 4.0), (144, 3.5), (145, 5.0), (151, 5.0), (153, 2.0), (155, 3.0), (156, 4.0), (159, 4.5), (160, 4.0), (161, 4.0), (166, 5.0), (167, 3.5), (169, 4.5), (171, 5.0), (177, 5.0), (178, 4.0), (179, 4.0), (182, 4.0), (185, 4.0), (186, 4.0), (191, 4.0), (193, 2.0), (200, 3.5), (201, 5.0), (202, 4.0), (206, 5.0), (213, 3.5), (214, 3.0), (216, 3.0), (217, 4.0), (219, 3.5), (220, 5.0), (223, 3.5), (226, 3.5), (229, 5.0), (232, 3.5), (233, 3.0), (234, 5.0), (239, 4.0), (240, 5.0), (247, 5.0), (249, 4.0), (252, 4.5), (254, 4.5), (263, 4.0), (264, 4.0), (266, 2.0), (269, 5.0), (270, 5.0), (273, 5.0), (274, 4.0), (275, 5.0), (276, 4.0), (277, 4.0), (279, 3.0), (280, 4.5), (282, 4.5), (283, 3.0), (288, 4.5), (290, 4.0), (291, 4.0), (292, 4.0), (293, 3.0), (298, 2.0), (304, 5.0), (307, 4.0), (314, 3.0), (322, 3.5), (323, 3.5), (328, 5.0), (330, 4.0), (332, 4.0), (334, 3.5), (336, 4.0), (337, 4.0), (339, 4.0), (341, 5.0), (347, 5.0), (350, 4.0), (353, 5.0), (357, 5.0), (359, 4.0), (364, 5.0), (367, 5.0), (372, 3.0), (373, 3.0), (378, 4.5), (380, 5.0), (381, 3.5), (382, 4.5), (385, 4.0), (389, 5.0), (391, 3.0), (396, 5.0), (399, 4.0), (401, 3.5), (411, 5.0), (412, 2.0), (414, 4.0), (420, 4.0), (422, 4.0), (432, 2.5), (434, 4.0), (436, 4.0), (438, 4.5), (443, 4.0), (448, 5.0), (451, 5.0), (453, 5.0), (456, 5.0), (460, 4.5), (462, 1.5), (468, 4.0), (469, 4.0), (470, 4.0), (471, 5.0), (474, 4.0), (476, 4.0), (477, 4.0), (480, 3.0), (483, 4.0), (484, 4.5), (488, 4.5), (490, 3.5), (492, 4.0), (500, 4.0), (504, 4.0), (509, 4.0), (514, 4.0), (517, 4.0), (522, 3.0), (524, 4.0), (525, 4.0), (528, 2.5), (529, 3.0), (533, 5.0), (534, 4.0), (541, 3.0), (544, 3.0), (550, 4.0), (555, 4.0), (559, 5.0), (560, 3.0), (561, 4.0), (562, 4.5), (567, 3.5), (570, 4.0), (572, 4.0), (573, 5.0), (579, 4.0), (580, 3.0), (584, 5.0), (587, 5.0), (590, 4.0), (596, 4.0), (597, 4.0), (599, 3.0), (600, 2.5), (601, 4.0), (603, 4.0), (604, 3.0), (605, 4.0), (606, 2.5), (607, 4.0), (608, 2.5), (609, 3.0), (610, 5.0)]\n"
     ]
    }
   ],
   "source": [
    "import pandas as pd\n",
    "import numpy as np\n",
    "from scipy.sparse import csr_matrix\n",
    "from sklearn.neighbors import NearestNeighbors\n",
    "import matplotlib.pyplot as plt\n",
    "import seaborn as sns\n",
    "import sqlite3\n",
    "usuario = 1\n",
    "pelicula = 1\n",
    "\n",
    "conexion = sqlite3.connect('movies.db')\n",
    "if conexion == None:\n",
    "    print(\"Hola\")\n",
    "else:\n",
    "    print('Funciona')\n",
    "\n",
    "\n",
    "cursor = conexion.cursor()\n",
    "cursor.execute('SELECT movieId FROM ratings WHERE userId = ?', str(usuario))\n",
    "pelisVistas = cursor.fetchall()\n",
    "print(pelisVistas)\n",
    "cursor.close()\n",
    "conexion.close()\n",
    "\n",
    "\n",
    "con = sqlite3.connect('movies.db')\n",
    "if con == None:\n",
    "    print(\"Hola\")\n",
    "else:\n",
    "    print('Funciona')\n",
    "#FUNCION DONDE VAMOS HACER LA PREDICCION DE LA PELICULA\n",
    "#Hablamos con la base de datos \n",
    "cur = con.cursor()\n",
    "#Primer vector donde cogemos todos los ratings de la peli que queremos\n",
    "cur.execute('SELECT userId, rating FROM ratings WHERE movieId = ?', str(pelicula))\n",
    "v1 = cur.fetchall()\n",
    "print(result)\n",
    "\n",
    "\n",
    "\n",
    "\n",
    "\n",
    "cur.close()\n",
    "con.close()\n",
    "\n",
    "#final_dataset = ratings.pivot(index='userId',columns='movieId',values='rating')\n",
    "#final_dataset.fillna(0,inplace=True)\n",
    "#Cogemos el usuario que se ha elegido\n",
    "#final_dataset[usuario]\n",
    "\n",
    "#final_dataset[final_dataset['userId'] == usuario]\n",
    "#final_dataset[final_dataset['movieId'] == pelicula]\n",
    "\n",
    "#query = 'SELECT movieId FROM ratings WHERE userId = \"usuario\"'\n",
    "\n",
    "\n",
    "\n",
    "\n",
    "\n",
    "\n"
   ]
  },
  {
   "cell_type": "code",
   "execution_count": null,
   "metadata": {},
   "outputs": [],
   "source": [
    "cur = con.cursor()\n",
    "cur.execute('SELECT movieId FROM ratings WHERE userId = ?', str(usuario))\n",
    "result = cur.fetchall()\n",
    "suma = 0\n",
    "for r in result:\n",
    "    if r[0]==pelicula:\n",
    "        print('Error la pelicula ya la ha visto')\n",
    "        break\n",
    "    else:\n",
    "        suma += r[0]\n",
    "        #print(r)\n",
    "\n",
    "print(suma)\n",
    "media = 0.0\n",
    "media = suma/float(len(result))\n",
    "print(media)\n",
    "#resultado es valido \n",
    "#sobre las pelis que hay si el id de la peli que quiero comprobar esta error.\n",
    "#Si no esta pasas a hacer la funcion\n",
    "#FORMULA\n",
    "#print(result[0][0])\n",
    "#print(r[0])\n",
    "\n",
    "\n",
    "\n",
    "#numerador = 0\n",
    "#mediarating = 0\n",
    "#x=0\n",
    "#for y in result:\n",
    "    #mediarating += y[1]\n",
    "    #x += 1\n",
    "#print(x) Con el user 1 es 232\n",
    "#mediarating = mediarating/x\n",
    "#print(mediarating) #4,366379\n",
    "#rate = 0\n",
    "#for x in result:\n",
    "    #rate =  x[1] - mediarating\n",
    "    #print(rate)\n",
    "    #numerador += rate\n",
    "\n",
    "#print(numerador)\n",
    "\n",
    "\n",
    "\n",
    "\n",
    "\n",
    "cur.close()\n",
    "con.close()\n",
    "\n",
    "#final_dataset = ratings.pivot(index='userId',columns='movieId',values='rating')\n",
    "#final_dataset.fillna(0,inplace=True)\n",
    "#Cogemos el usuario que se ha elegido\n",
    "#final_dataset[usuario]\n",
    "\n",
    "#final_dataset[final_dataset['userId'] == usuario]\n",
    "#final_dataset[final_dataset['movieId'] == pelicula]\n",
    "\n",
    "#query = 'SELECT movieId FROM ratings WHERE userId = \"usuario\"'"
   ]
  }
 ]
}